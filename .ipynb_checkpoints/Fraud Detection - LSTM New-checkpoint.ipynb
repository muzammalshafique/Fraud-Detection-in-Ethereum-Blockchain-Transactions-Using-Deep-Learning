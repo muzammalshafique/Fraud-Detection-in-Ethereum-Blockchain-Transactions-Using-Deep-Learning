{
 "cells": [
  {
   "cell_type": "code",
   "execution_count": 1,
   "id": "58dc9daa",
   "metadata": {},
   "outputs": [],
   "source": [
    "import pandas as pd\n",
    "\n",
    "# Replace 'path_to_your_csv.csv' with the actual path to your CSV file\n",
    "df = pd.read_csv('data.csv')"
   ]
  },
  {
   "cell_type": "code",
   "execution_count": 2,
   "id": "df45f42b",
   "metadata": {},
   "outputs": [],
   "source": [
    "from sklearn.preprocessing import LabelEncoder\n",
    "\n",
    "le = LabelEncoder()\n",
    "df['FLAG'] = le.fit_transform(df['FLAG'])  # Converts 'Fraud' to 1 and 'Non-Fraud' to 0"
   ]
  },
  {
   "cell_type": "code",
   "execution_count": 3,
   "id": "0a7bc4bb",
   "metadata": {},
   "outputs": [],
   "source": [
    "from sklearn.preprocessing import StandardScaler\n",
    "\n",
    "features = df.drop('FLAG', axis=1)  # Exclude the target variable\n",
    "scaler = StandardScaler()\n",
    "features_scaled = scaler.fit_transform(features)"
   ]
  },
  {
   "cell_type": "code",
   "execution_count": 4,
   "id": "8d3b82cf",
   "metadata": {},
   "outputs": [],
   "source": [
    "X = features_scaled\n",
    "y = df['FLAG'].values"
   ]
  },
  {
   "cell_type": "code",
   "execution_count": 5,
   "id": "4004f6ee",
   "metadata": {},
   "outputs": [],
   "source": [
    "from imblearn.over_sampling import SMOTE\n",
    "\n",
    "smote = SMOTE(sampling_strategy='minority', k_neighbors=5)\n",
    "X_res, y_res = smote.fit_resample(X, y)"
   ]
  },
  {
   "cell_type": "code",
   "execution_count": 6,
   "id": "0cfa1993",
   "metadata": {},
   "outputs": [],
   "source": [
    "from sklearn.feature_selection import mutual_info_classif\n",
    "\n",
    "info_gain = mutual_info_classif(X_res, y_res)\n",
    "top_features_indices = info_gain.argsort()[-10:][::-1]  # Get indices of top 10 features\n",
    "X_top_features = X_res[:, top_features_indices]"
   ]
  },
  {
   "cell_type": "code",
   "execution_count": 26,
   "id": "7b287f5f",
   "metadata": {},
   "outputs": [],
   "source": [
    "from sklearn.model_selection import train_test_split\n",
    "\n",
    "X_train, X_test, y_train, y_test = train_test_split(X_top_features, y_res, test_size=0.2, random_state=42)"
   ]
  },
  {
   "cell_type": "code",
   "execution_count": 33,
   "id": "55ac6fa0",
   "metadata": {},
   "outputs": [
    {
     "data": {
      "text/plain": [
       "array([[[-0.66719608],\n",
       "        [-0.7602708 ],\n",
       "        [-0.23454286],\n",
       "        ...,\n",
       "        [-0.35528359],\n",
       "        [-0.00459432],\n",
       "        [-0.03885983]],\n",
       "\n",
       "       [[-0.65182151],\n",
       "        [ 0.9811532 ],\n",
       "        [-0.18554121],\n",
       "        ...,\n",
       "        [-0.0738586 ],\n",
       "        [-0.00408136],\n",
       "        [-0.03627359]],\n",
       "\n",
       "       [[ 1.47455843],\n",
       "        [ 1.37617855],\n",
       "        [-0.08835651],\n",
       "        ...,\n",
       "        [-0.31146951],\n",
       "        [-0.00434287],\n",
       "        [-0.03875137]],\n",
       "\n",
       "       ...,\n",
       "\n",
       "       [[ 1.47455843],\n",
       "        [-0.20203726],\n",
       "        [-0.23454286],\n",
       "        ...,\n",
       "        [ 0.42213238],\n",
       "        [-0.00459411],\n",
       "        [-0.03804355]],\n",
       "\n",
       "       [[-0.65568127],\n",
       "        [-0.7602708 ],\n",
       "        [-0.16144968],\n",
       "        ...,\n",
       "        [-0.34748875],\n",
       "        [-0.00750727],\n",
       "        [-0.02788582]],\n",
       "\n",
       "       [[-0.66719608],\n",
       "        [-0.7602708 ],\n",
       "        [-0.23454286],\n",
       "        ...,\n",
       "        [-0.31039537],\n",
       "        [-0.00458165],\n",
       "        [-0.03872809]]])"
      ]
     },
     "execution_count": 33,
     "metadata": {},
     "output_type": "execute_result"
    }
   ],
   "source": [
    "new_feature_dim = X_train.shape[1] // time_steps\n",
    "X_train = X_train.reshape(-1, time_steps, new_feature_dim)"
   ]
  },
  {
   "cell_type": "code",
   "execution_count": 34,
   "id": "02f22cef",
   "metadata": {
    "scrolled": false
   },
   "outputs": [
    {
     "name": "stdout",
     "output_type": "stream",
     "text": [
      "Epoch 1/10\n",
      "306/306 [==============================] - 17s 30ms/step - loss: 0.5406 - accuracy: 0.7107 - val_loss: 0.4418 - val_accuracy: 0.7588\n",
      "Epoch 2/10\n",
      "306/306 [==============================] - 7s 24ms/step - loss: 0.4107 - accuracy: 0.8103 - val_loss: 0.4222 - val_accuracy: 0.7545\n",
      "Epoch 3/10\n",
      "306/306 [==============================] - 8s 24ms/step - loss: 0.3125 - accuracy: 0.8821 - val_loss: 0.2190 - val_accuracy: 0.9228\n",
      "Epoch 4/10\n",
      "306/306 [==============================] - 8s 25ms/step - loss: 0.1934 - accuracy: 0.9293 - val_loss: 0.1768 - val_accuracy: 0.9287\n",
      "Epoch 5/10\n",
      "306/306 [==============================] - 7s 24ms/step - loss: 0.1700 - accuracy: 0.9371 - val_loss: 0.1655 - val_accuracy: 0.9436\n",
      "Epoch 6/10\n",
      "306/306 [==============================] - 7s 24ms/step - loss: 0.1516 - accuracy: 0.9461 - val_loss: 0.1501 - val_accuracy: 0.9461\n",
      "Epoch 7/10\n",
      "306/306 [==============================] - 8s 25ms/step - loss: 0.1404 - accuracy: 0.9499 - val_loss: 0.1378 - val_accuracy: 0.9504\n",
      "Epoch 8/10\n",
      "306/306 [==============================] - 7s 24ms/step - loss: 0.1439 - accuracy: 0.9488 - val_loss: 0.1484 - val_accuracy: 0.9449\n",
      "Epoch 9/10\n",
      "306/306 [==============================] - 7s 24ms/step - loss: 0.1332 - accuracy: 0.9517 - val_loss: 0.1339 - val_accuracy: 0.9520\n",
      "Epoch 10/10\n",
      "306/306 [==============================] - 7s 24ms/step - loss: 0.1283 - accuracy: 0.9533 - val_loss: 0.1384 - val_accuracy: 0.9502\n"
     ]
    },
    {
     "data": {
      "text/plain": [
       "<keras.callbacks.History at 0x21bae0fb8d0>"
      ]
     },
     "execution_count": 34,
     "metadata": {},
     "output_type": "execute_result"
    }
   ],
   "source": [
    "from tensorflow.keras.models import Sequential\n",
    "from tensorflow.keras.layers import LSTM, Dense\n",
    "from tensorflow.keras.utils import to_categorical\n",
    "\n",
    "# Assuming X_train and y_train are already preprocessed and suitable for LSTM input\n",
    "# For binary classification, y should be categorical (use to_categorical if needed)\n",
    "\n",
    "# Define the LSTM model\n",
    "model = Sequential()\n",
    "model.add(LSTM(50, input_shape=(X_train.shape[1], X_train.shape[2]), return_sequences=True))\n",
    "model.add(LSTM(50, return_sequences=False))\n",
    "model.add(Dense(1, activation='sigmoid'))  # Using sigmoid activation for binary classification\n",
    "\n",
    "# Compile the model\n",
    "model.compile(loss='binary_crossentropy', optimizer='adam', metrics=['accuracy'])\n",
    "\n",
    "# Fit the model to the training data\n",
    "model.fit(X_train, y_train, epochs=10, batch_size=64, validation_split=0.2)"
   ]
  },
  {
   "cell_type": "code",
   "execution_count": 36,
   "id": "523972cc",
   "metadata": {},
   "outputs": [
    {
     "name": "stdout",
     "output_type": "stream",
     "text": [
      "192/192 [==============================] - 2s 8ms/step - loss: 0.1253 - accuracy: 0.9557\n",
      "Test accuracy: 0.9557189345359802\n"
     ]
    }
   ],
   "source": [
    "# Reshape X_test to 3D\n",
    "# The number of time steps and features per step should match those used for X_train\n",
    "time_steps = 10  # This should be the same value you used for reshaping X_train\n",
    "features_per_step = X_test.shape[1] // time_steps\n",
    "\n",
    "if X_test.shape[1] % time_steps != 0:\n",
    "    raise ValueError(\"Number of features in X_test is not divisible by time_steps\")\n",
    "\n",
    "X_test_3D = X_test.reshape(-1, time_steps, features_per_step)\n",
    "\n",
    "# Now you can evaluate the model with the reshaped test data\n",
    "loss, accuracy = model.evaluate(X_test_3D, y_test)\n",
    "print('Test accuracy:', accuracy)"
   ]
  },
  {
   "cell_type": "code",
   "execution_count": null,
   "id": "7f32fe53",
   "metadata": {},
   "outputs": [],
   "source": [
    "# SHAP - Deep Explainer for LSTM models\n",
    "shap_explainer = shap.DeepExplainer(best_model.model, X_train_reshaped)\n",
    "shap_values = shap_explainer(X_test_reshaped)\n",
    "\n",
    "# Generate SHAP plots\n",
    "shap.summary_plot(shap_values, X_test_reshaped)\n",
    "shap.plots.force(shap_values[0])\n",
    "shap.plots.scatter(shap_values[:, 0])\n",
    "shap.plots.waterfall(shap_values[0])"
   ]
  }
 ],
 "metadata": {
  "kernelspec": {
   "display_name": "Python 3 (ipykernel)",
   "language": "python",
   "name": "python3"
  },
  "language_info": {
   "codemirror_mode": {
    "name": "ipython",
    "version": 3
   },
   "file_extension": ".py",
   "mimetype": "text/x-python",
   "name": "python",
   "nbconvert_exporter": "python",
   "pygments_lexer": "ipython3",
   "version": "3.11.2"
  }
 },
 "nbformat": 4,
 "nbformat_minor": 5
}
